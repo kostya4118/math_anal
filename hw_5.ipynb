{
  "nbformat": 4,
  "nbformat_minor": 0,
  "metadata": {
    "colab": {
      "name": "hw_5.ipynb",
      "provenance": []
    },
    "kernelspec": {
      "name": "python3",
      "display_name": "Python 3"
    },
    "language_info": {
      "name": "python"
    }
  },
  "cells": [
    {
      "cell_type": "markdown",
      "metadata": {
        "id": "uypEaOKygc2d"
      },
      "source": [
        "__1.__ Найти производную функции:\n",
        "\n",
        "### $$y=\\frac{1}{x}+\\frac{2}{x^2}-\\frac{5}{x^3}+\\sqrt x -\\sqrt[3]x+\\frac{3}{\\sqrt x}$$\n",
        "### $$y'=-x^{-2}+\\frac{0\\cdot x^2-2\\cdot 2x}{x^4}-\\frac{0\\cdot x^3-5\\cdot 3x^2}{x^6}+\\frac{1}{2}\\cdot x^{-1/2}-\\frac{1}{3}\\cdot x^{-2/3}+\\frac{0\\cdot \\sqrt x-3\\cdot \\frac{1}{2}\\cdot x^{-1/2}}{x}=-\\frac{1}{x^2}-\\frac{4}{x^3}+\\frac{15}{x^4}+\\frac{1}{2\\sqrt{x}}-\\frac{1}{3\\sqrt[3]{x^2}}-\\frac{ 3}{2x\\sqrt{x}}$$"
      ]
    },
    {
      "cell_type": "markdown",
      "metadata": {
        "id": "ofaNbKgFgfIT"
      },
      "source": [
        "__2.__ Найти производную функции:\n",
        "\n",
        "### $$y=x \\cdot \\sqrt {1+x^2}$$\n",
        "### $$y'=1\\cdot \\sqrt {1+x^2}+x \\cdot \\frac{1\\cdot (1+x^2)'}{2\\sqrt {1+x^2}}=\n",
        "\\sqrt {1+x^2}+\\frac{x\\cdot 2x}{2\\sqrt {1+x^2}}=\n",
        "\\sqrt {1+x^2}+\\frac{x^2}{\\sqrt {1+x^2}}$$"
      ]
    },
    {
      "cell_type": "markdown",
      "metadata": {
        "id": "XkxytBy5uI-n"
      },
      "source": [
        "__3.__ Найти производную функции:\n",
        "\n",
        "### $$y= \\frac{2x}{1-x^2}$$\n",
        "\n",
        "### $$y'= \\frac{2(1-x^2)-2x(-2x)}{(1-x^2)^2}=\n",
        "\\frac{2-2x^2+4x^2}{(1-x^2)^2}=\n",
        "\\frac{2x^2+2}{(1-x^2)^2}$$"
      ]
    },
    {
      "cell_type": "markdown",
      "metadata": {
        "id": "eRXtT3_RiT31"
      },
      "source": [
        "__4*.__ Найти производную функции:\n",
        "\n",
        "### $$y=\\sqrt{x+ \\sqrt{x+\\sqrt x}}$$\n",
        "\n",
        "### $$y'=\\frac{1\\cdot(x+ \\sqrt{x+\\sqrt x})'}{2\\sqrt{x+ \\sqrt{x+\\sqrt x}}}=\n",
        "\\frac{1\\cdot(1+ \\frac{1\\cdot(x+\\sqrt x)'}{2\\cdot\\sqrt{x+\\sqrt x}})}{2\\sqrt{x+ \\sqrt{x+\\sqrt x}}}=\n",
        "\\frac{1+ \\frac{1\\cdot(1+\\frac{1}{2\\sqrt x})}{2\\cdot\\sqrt{x+\\sqrt x}}}{2\\sqrt{x+ \\sqrt{x+\\sqrt x}}}=\n",
        "\\frac{1+ \\frac{1+\\frac{1}{2\\sqrt x}}{2\\cdot\\sqrt{x+\\sqrt x}}}{2\\sqrt{x+ \\sqrt{x+\\sqrt x}}}\n",
        "$$\n",
        "$$При \\,\\,\\,x > 0$$"
      ]
    },
    {
      "cell_type": "markdown",
      "metadata": {
        "id": "InKELjd6nvDM"
      },
      "source": [
        "__5.__ Найти производную функции:\n",
        "\n",
        "### $$y= \\ln(x+\\sqrt{x^2+1})$$\n",
        "\n",
        "### $$y'= \\frac{1\\cdot(x+\\sqrt{x^2+1})'}{x+\\sqrt{x^2+1}}=\n",
        "\\frac{1\\cdot(1+\\frac{1\\cdot(x^2+1)'}{2\\sqrt{x^2+1}})}{x+\\sqrt{x^2+1}}=\n",
        "\\frac{1+\\frac{2x}{2\\sqrt{x^2+1}}}{x+\\sqrt{x^2+1}}=\n",
        "\\frac{1+\\frac{x}{\\sqrt{x^2+1}}}{x+\\sqrt{x^2+1}}=\n",
        "\\frac{\\frac{\\sqrt{x^2+1}}{\\sqrt{x^2+1}}+\\frac{x}{\\sqrt{x^2+1}}}{x+\\sqrt{x^2+1}}=\n",
        "\\frac{\\frac{x+\\sqrt{x^2+1}}{\\sqrt{x^2+1}}}{x+\\sqrt{x^2+1}}=\n",
        "\\frac{1}{\\sqrt{x^2+1}}\n",
        "$$"
      ]
    },
    {
      "cell_type": "markdown",
      "metadata": {
        "id": "b4P6BH3qrlbc"
      },
      "source": [
        "__6.__ Найти производную функции:\n",
        "\n",
        "### $$y=x \\cdot \\ln(x+\\sqrt{x^2+1})-\\sqrt{x^2+1}$$\n",
        "\n",
        "### $$y'=(x \\cdot \\ln(x+\\sqrt{x^2+1}))'-(\\sqrt{x^2+1})'\n",
        "=1 \\cdot \\ln(x+\\sqrt{x^2+1})+x\\cdot(\\ln(x+\\sqrt{x^2+1}))'-\\frac{1\\cdot(x^2+1)'}{2\\sqrt{x^2+1}}\n",
        "=\\ln(x+\\sqrt{x^2+1})+\n",
        "x\\cdot\\Bigr(\\frac{1}{\\sqrt{x^2+1}}\\Bigr)-\\frac{x}{\\sqrt{x^2+1}}\n",
        "=\\ln(x+\\sqrt{x^2+1})\n",
        "$$"
      ]
    },
    {
      "cell_type": "markdown",
      "metadata": {
        "id": "5ULE9Snoxf2O"
      },
      "source": [
        "__7*.__ Найти производную функции:\n",
        "\n",
        "### $$y=\\arcsin (\\sin x)$$\n",
        "\n",
        "### $$y'=\\frac{1\\cdot(\\sin x)'}{\\sqrt{1-\\sin^2(x)}}\n",
        "=\\frac{\\cos(x)}{\\sqrt{1-\\sin^2(x)}}\n",
        "$$\n",
        "\n",
        "$$При \\,\\,\\,x \\neq \\Bigl(\\frac{\\pi}{2}+\\pi n\\Bigl)$$"
      ]
    },
    {
      "cell_type": "markdown",
      "metadata": {
        "id": "jYmYylRSllud"
      },
      "source": [
        "__8*.__ Вычислить приближенное значение: \n",
        "\n",
        "### $$\\sin(1^0)=\\sin\\Bigl(\\frac{\\pi}{180}\\Bigr)$$\n",
        "### $$\\sin\\Bigl(\\frac{\\pi}{180}\\Bigr)=\\sin\\Bigl(0+\\frac{\\pi}{180}\\Bigr)\n",
        "\\approx \\sin(0)+\\sin'(0)\\cdot\\frac{\\pi}{180}\n",
        "\\approx 0+\\cos(0)\\cdot\\frac{\\pi}{180}\n",
        "\\approx 1\\cdot\\frac{\\pi}{180}\\approx \\frac{\\pi}{180}$$"
      ]
    }
  ]
}