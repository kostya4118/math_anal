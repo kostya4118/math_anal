{
  "nbformat": 4,
  "nbformat_minor": 0,
  "metadata": {
    "colab": {
      "name": "hw_8.ipynb",
      "provenance": []
    },
    "kernelspec": {
      "name": "python3",
      "display_name": "Python 3"
    },
    "language_info": {
      "name": "python"
    }
  },
  "cells": [
    {
      "cell_type": "markdown",
      "metadata": {
        "id": "Lb2K3Ta5Nc18"
      },
      "source": [
        "__1.__ Исследовать на условный экстремум функцию\n",
        "\n",
        "### $$U=3-8x+6y,$$\n",
        "\n",
        "если\n",
        "\n",
        "### $$x^2+y^2=36$$\n",
        "\n",
        "### $$L(x,y,\\lambda)=3-8x+6y +\\lambda \\cdot (x^2+y^2-36)$$\n",
        "\n",
        "### $$\\begin{cases}\n",
        "   L'_{x}=-8+2\\lambda x=0, \\\\\n",
        "   L'_{y}=6+2\\lambda y=0, \\\\\n",
        "   L'_{\\lambda}=x^2+y^2-36=0\n",
        " \\end{cases}$$ \n",
        "### $$\\begin{cases}\n",
        "   x=\\frac{8}{2\\lambda}, \\\\\n",
        "   y=\\frac{-6}{2\\lambda}, \\\\\n",
        "   (\\frac{8}{2\\lambda})^2+(\\frac{-6}{2\\lambda})^2=36\n",
        " \\end{cases}\\Rightarrow \n",
        " \\begin{cases}\n",
        "   x=\\frac{8}{2\\lambda}, \\\\\n",
        "   y=\\frac{-6}{2\\lambda}, \\\\\n",
        "   \\frac{100}{4\\lambda^2}=36\n",
        " \\end{cases}\\Rightarrow \n",
        " \\begin{cases}\n",
        "   x=\\frac{8}{2\\lambda}, \\\\\n",
        "   y=\\frac{-6}{2\\lambda}, \\\\\n",
        "   \\lambda^2=\\frac{25}{36}\n",
        " \\end{cases}$$\n",
        " \n",
        "Получаем две точки: $(4\\frac{4}{5},-3\\frac{3}{5},\\frac{5}{6})$ и $(-4\\frac{4}{5},3\\frac{3}{5},-\\frac{5}{6})$\n",
        " \n",
        "### $$L''_{xx}=2\\lambda$$\n",
        "### $$L''_{yy}=2\\lambda$$\n",
        "### $$L''_{\\lambda \\lambda}=0$$\n",
        "### $$L''_{xy}=L''_{yx}=0$$\n",
        "### $$L''_{x\\lambda}=L''_{\\lambda x}=2x$$\n",
        "### $$L''_{y\\lambda}=L''_{\\lambda y}=2y$$ \n",
        "\n",
        "### $$\\begin{pmatrix}\n",
        "L''_{\\lambda \\lambda} & L''_{\\lambda x} & L''_{\\lambda y}\\\\ \n",
        "L''_{x \\lambda} & L''_{xx} & L''_{xy}\\\\\n",
        "L''_{y \\lambda} & L''_{yx} & L''_{yy}\\\\\n",
        "\\end{pmatrix}\\Rightarrow\n",
        "\\begin{pmatrix}\n",
        "0 & 2x & 2y\\\\ \n",
        "2x & 2\\lambda & 0\\\\\n",
        "2y & 0 & 2\\lambda\\\\\n",
        "\\end{pmatrix}$$\n",
        "\n",
        "### $$\\Delta=\\begin{vmatrix}\n",
        "0 & 2x & 2y\\\\ \n",
        "2x & 2\\lambda & 0\\\\\n",
        "2y & 0 & 2\\lambda\\\\\n",
        "\\end{vmatrix}=0\\cdot\n",
        "\\begin{vmatrix}\n",
        "2\\lambda & 0\\\\\n",
        "0 & 2\\lambda\\\\\n",
        "\\end{vmatrix}-2x\\cdot\n",
        "\\begin{vmatrix}\n",
        "2x & 0\\\\\n",
        "2y & 2\\lambda\\\\\n",
        "\\end{vmatrix}+2y\\cdot\n",
        "\\begin{vmatrix}\n",
        "2x & 2\\lambda\\\\\n",
        "2y & 0\\\\\n",
        "\\end{vmatrix}=(-2x)\\cdot 4x\\lambda+2y \\cdot(-4y\\lambda)=-8\\lambda(x^2+y^2)$$\n",
        "\n",
        "По условию задачи $x^2+y^2=36$, тогда \n",
        "### $$\\Delta=-8\\lambda \\cdot 36 = -288\\lambda$$\n",
        "\n",
        "Если $\\lambda=\\frac{5}{6}$, то $\\Delta<0$, следовательно $(4\\frac{4}{5},-3\\frac{3}{5},\\frac{5}{6})$ - точка минимума.\n",
        "\n",
        "Если $\\lambda=-\\frac{5}{6}$, то $\\Delta>0$, следовательно $(-4\\frac{4}{5},3\\frac{3}{5},-\\frac{5}{6})$ - точка максимума."
      ]
    },
    {
      "cell_type": "markdown",
      "metadata": {
        "id": "4kSi1EgXdA1y"
      },
      "source": [
        "__2.__ Исследовать на условный экстремум функцию\n",
        "\n",
        "### $$U=2x^2+12xy+32y^2+15,$$\n",
        "\n",
        "если\n",
        "\n",
        "### $$x^2+16y^2=64$$\n",
        "\n",
        "### $$L(x,y,\\lambda)=2x^2+12xy+32y^2+15 +\\lambda \\cdot (x^2+16y^2-64)$$\n",
        "### $$\\begin{cases}\n",
        "   L'_{x}=4x+12y+2\\lambda x=0, \\\\\n",
        "   L'_{y}=12x+64y+32\\lambda y=0, \\\\\n",
        "   L'_{\\lambda}=x^2+16y^2-64=0\n",
        " \\end{cases}$$ \n",
        "### $$\\begin{cases}\n",
        "   12y=-4x-2\\lambda x, \\\\\n",
        "   12x=-64y-32\\lambda y, \\\\\n",
        "   x^2+16y^2=64\n",
        " \\end{cases} $$\n",
        " Решив данную систему получим 4 точки $(-4\\sqrt2,-\\sqrt2,-\\frac{7}{2})$, $(-4\\sqrt2,\\sqrt2,-\\frac{1}{2})$, $(4\\sqrt2,-\\sqrt2,-\\frac{1}{2})$, $(4\\sqrt2,\\sqrt2,-\\frac{7}{2})$\n",
        ".\n",
        "\n",
        "### $$L''_{xx}=4+2\\lambda$$\n",
        "### $$L''_{yy}=64+32\\lambda$$\n",
        "### $$L''_{\\lambda \\lambda}=0$$\n",
        "### $$L''_{xy}=L''_{yx}=12$$\n",
        "### $$L''_{x\\lambda}=L''_{\\lambda x}=2x$$\n",
        "### $$L''_{y\\lambda}=L''_{\\lambda y}=32y$$ \n",
        "\n",
        "### $$\\begin{pmatrix}\n",
        "L''_{\\lambda \\lambda} & L''_{\\lambda x} & L''_{\\lambda y}\\\\ \n",
        "L''_{x \\lambda} & L''_{xx} & L''_{xy}\\\\\n",
        "L''_{y \\lambda} & L''_{yx} & L''_{yy}\\\\\n",
        "\\end{pmatrix}\\Rightarrow\n",
        "\\begin{pmatrix}\n",
        "0 & 2x & 32y\\\\ \n",
        "2x & 4+2\\lambda & 12\\\\\n",
        "32y & 12 & 64+32\\lambda\\\\\n",
        "\\end{pmatrix}$$\n",
        "\n",
        "### $$\\Delta=\\begin{vmatrix}\n",
        "0 & 2x & 32y\\\\ \n",
        "2x & 4+2\\lambda & 12\\\\\n",
        "32y & 12 & 64+32\\lambda\\\\\n",
        "\\end{vmatrix}=0\\cdot\n",
        "\\begin{vmatrix}\n",
        "4+2\\lambda & 12\\\\\n",
        "12 & 64+32\\lambda\\\\\n",
        "\\end{vmatrix}-2x\\cdot\n",
        "\\begin{vmatrix}\n",
        "2x & 12\\\\\n",
        "32y & 64+32\\lambda\\\\\n",
        "\\end{vmatrix}+32y\\cdot\n",
        "\\begin{vmatrix}\n",
        "2x & 4+2\\lambda\\\\\n",
        "32y & 12\\\\\n",
        "\\end{vmatrix}=\n",
        "(-2x)\\cdot (128x+64\\lambda x-384y)+32y\\cdot (24x-128y-64\\lambda y)=\n",
        "-256x^2-128\\lambda x^2+1536xy-4096y^2-2048\\lambda y^2\n",
        "=\\\\\n",
        "-128\\cdot(2x^2+\\lambda x^2-12xy+32y^2+16\\lambda y^2)$$\n",
        "\n",
        "В точке $(-4\\sqrt2,-\\sqrt2,-\\frac{7}{2})$ $\\Delta=24576>0$, значит это точка максимума.\n",
        "\n",
        "В точке $(-4\\sqrt2,\\sqrt2,-\\frac{1}{2})$ $\\Delta=-24576<0$, значит это точка минимума.\n",
        "\n",
        "В точке $(4\\sqrt2,-\\sqrt2,-\\frac{1}{2})$ $\\Delta=-24576<0$, значит это точка минимума.\n",
        "\n",
        "В точке $(4\\sqrt2,\\sqrt2,-\\frac{7}{2})$ $\\Delta=24576>0$, значит это точка максимума.\n"
      ]
    },
    {
      "cell_type": "markdown",
      "metadata": {
        "id": "NvQHwhyQfhFN"
      },
      "source": [
        "__3.__ Численно найти хотя бы один действительный корень системы нелинейных уравнений:\n",
        "### $$\\begin{cases}\n",
        "   x^2-y^2+3xy^3-2x^2y^2+2x-3y-5=0 \\\\\n",
        "   3y^3-2x^2+2x^3y-5x^2y^2+5=0\n",
        " \\end{cases}$$\n",
        " __4*.__ Численно найти все $5$ действительных корней."
      ]
    },
    {
      "cell_type": "code",
      "metadata": {
        "colab": {
          "base_uri": "https://localhost:8080/"
        },
        "id": "b6jH46T4U8-m",
        "outputId": "e05a3bfc-da5c-4efc-84dc-77a2f2bc8bf6"
      },
      "source": [
        "import numpy as np\n",
        "from scipy.optimize import fsolve, broyden2\n",
        "import math\n",
        "\n",
        "def equations(p):\n",
        "    x, y = p\n",
        "    return (x**2-y**2+3*x*(y**3)-2*(x**2)*(y**2)+2*x-3*y-5, 3*(y**3)-2*x**2+2*(x**3)*y-5*(x**2)*(y**2)+5)\n",
        "\n",
        "solv = set()\n",
        "for x in np.arange (-10, 10, 0.2):\n",
        "    for y in np.arange (-10, 10, 0.2):\n",
        "        (x, y), info, ier, mesg =  fsolve(equations, (x, y), full_output=True)\n",
        "        if (ier == 1): \n",
        "            solv.add(f'{int(x*10**8)/10**8}, {int(y*10**8)/10**8}')\n",
        "            \n",
        "for el in solv:\n",
        "    print(el)"
      ],
      "execution_count": null,
      "outputs": [
        {
          "output_type": "stream",
          "name": "stdout",
          "text": [
            "-3.65307996, -0.27476341\n",
            "2.49435653, 0.70831752\n",
            "1.37568714, -0.17475798\n",
            "2.21775363, 0.61019397\n",
            "1.27330206, 1.66203912\n"
          ]
        }
      ]
    },
    {
      "cell_type": "code",
      "metadata": {
        "id": "43C6B26nU9K1"
      },
      "source": [
        ""
      ],
      "execution_count": null,
      "outputs": []
    }
  ]
}