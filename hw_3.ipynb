{
  "nbformat": 4,
  "nbformat_minor": 0,
  "metadata": {
    "colab": {
      "name": "hw_3.ipynb",
      "provenance": []
    },
    "kernelspec": {
      "name": "python3",
      "display_name": "Python 3"
    },
    "language_info": {
      "name": "python"
    }
  },
  "cells": [
    {
      "cell_type": "markdown",
      "metadata": {
        "id": "hjrMku9U0uOv"
      },
      "source": [
        "__1.__ Найти предел последовательности:\n",
        "\n",
        "### $$а)\\,\\,\\,\\,\\lim_{n\\to \\infty} \\frac{(23-2n^2)(3n^2+17)^2}{4n^6+n-1} = \\lim_{n\\to \\infty} \\frac{(23-2n^2)(9n^4+102n^2+289)}{4n^6+n-1} = \\lim_{n\\to \\infty} \\frac{207n^4+2346n^2+6647-18n^6-104n^4-578n^2}{4n^6+n-1} = \\lim_{n\\to \\infty} \\frac{-18n^6+103n^4+1768n^2+6648}{4n^6+n-1}= -4\\frac{1}{2} $$\n",
        "\n",
        "### $$б)\\,\\,\\,\\,\\lim_{n\\to \\infty} \\frac{(97-2n)^3}{2n(3n^2+15)+8n} = \\lim_{n\\to \\infty} \\frac{912673-56454n-1164n^2-8n^3}{6n^3+38n}= -1\\frac{1}{3}$$\n",
        "\n",
        "### $$в)\\,\\,\\,\\,\\lim_{n\\to \\infty} \\frac{2n^3+13n(n+18)}{(27-n)(2n+19)^2} = \\lim_{n\\to \\infty} \\frac{2n^3+13n^2+234n}{(27-n)(4n^2+76n+361)} = \\lim_{n\\to \\infty} \\frac{2n^3+13n^2+234n}{108n^2+2052n+9747-4n^3-76n^2-361n} = \\lim_{n\\to \\infty} \\frac{2n^3+13n^2+234n}{-4n^3+32n^2+1691n+9747} = -\\frac{1}{2}$$\n",
        "\n",
        "### $$г)\\,\\,\\,\\,\\lim_{n\\to \\infty} (\\sqrt{n^2+1}-n) = \\lim_{n\\to \\infty} (\\sqrt{n^2+1}-n)\\cdot\\frac{\\sqrt{n^2+1}+n}{\\sqrt{n^2+1}+n}= \\lim_{n\\to \\infty} \\frac{n^2+1-n^2}{\\sqrt{n^2+1}+n}= \\lim_{n\\to \\infty} \\frac{1}{\\sqrt{n^2+1}+n}=\\Bigl(\\frac{1}{\\infty}\\Bigr)=0$$\n",
        "\n",
        "### $$д)\\,\\,\\,\\,\\lim_{n\\to \\infty} \\frac{(-4)^n+5\\cdot7^n}{(-4)^{n-1}+7^{n+2}}= \\lim_{n\\to \\infty} \\frac{7^n((-4/7)^n+5)}{7^n(-1/4(-4/7)^n+49)} = \\frac{5}{49}$$\n",
        "\n",
        "\n",
        "\n",
        "\n",
        "\n",
        "\n",
        "\n",
        "\n",
        "\n",
        "\n",
        "\n",
        "\n",
        "\n",
        "\n",
        "### $$e)^*\\,\\,\\,\\,\\lim_{n\\to \\infty} \\Bigl(\\frac{1}{1\\cdot2}+\\frac{1}{2\\cdot3}+\\frac{1}{3\\cdot4}+...+\\frac{1}{(n-1)\\cdot n}\\Bigr)$$"
      ]
    },
    {
      "cell_type": "markdown",
      "metadata": {
        "id": "IltY7C4lM9td"
      },
      "source": [
        "__2.__ Представьте $1$ в виде суммы трех рациональных дробей с разными знаменателями и числителем равным $1$.\n",
        "### $$1=1/2+1/3+1/6$$\n"
      ]
    },
    {
      "cell_type": "markdown",
      "metadata": {
        "id": "at4juJaZP1x_"
      },
      "source": [
        "__3$^*$.__ Тоже задание, только в виде суммы шести дробей.\n",
        "\n",
        "Представим единицу в виде суммы четырех дробей:\n",
        "\n",
        "### $$1=1/2+1/4+1/6+1/12$$\n",
        "\n",
        "Возьмем меньшую из этих дробей и представим ее в следующем виде:\n",
        "\n",
        "### $$1/d=1/2d+1/3d+1/6d$$\n",
        "\n",
        "Таким образом, получим представление единицы в виде суммы 6 дробей нужного вида:\n",
        "\n",
        "### $$1=1/2+1/4+1/6+1/24+1/36+1/72$$"
      ]
    },
    {
      "cell_type": "code",
      "metadata": {
        "colab": {
          "base_uri": "https://localhost:8080/"
        },
        "id": "0aeEaK0WSQx9",
        "outputId": "835d4290-6834-4bad-f786-cec84b1ab7ec"
      },
      "source": [
        "print(1/2 + 1/4 + 1/6 + 1/24 + 1/36 + 1/72)"
      ],
      "execution_count": null,
      "outputs": [
        {
          "output_type": "stream",
          "text": [
            "0.9999999999999999\n"
          ],
          "name": "stdout"
        }
      ]
    },
    {
      "cell_type": "markdown",
      "metadata": {
        "id": "We6uyUmE_ra1"
      },
      "source": [
        "__4.__ Пользуясь критерием Коши, докажите сходимость последовательности:\n",
        "\n",
        "### $$a_n=\\frac{\\sin1}{2}+\\frac{\\sin2}{2^2}+\\frac{\\sin3}{2^3}+..\\frac{\\sin n}{2^n}\\,\\,\\,\\,\\,\\Rightarrow$$\n",
        "\n",
        "### $$\\Bigl\\{a_n\\Bigr\\}_{n=1}^\\infty=\\Bigl\\{\\frac{\\sin1}{2}, \\frac{\\sin1}{2}+\\frac{\\sin2}{2^2}, ..., a_n,...\\Bigr\\}$$\n",
        "\n",
        "\n",
        "$^*$ Какой член последовательности можно взять в качестве предела с точностью $\\varepsilon=10^{-7}$?"
      ]
    },
    {
      "cell_type": "markdown",
      "metadata": {
        "id": "1crTC7wqUniu"
      },
      "source": [
        "### $$|a_n-a_{n+k}|=\\Bigl|\\frac{\\sin(n+1)}{2^{n+1}}+\\frac{\\sin(n+2)}{2^{n+2}}+\\frac{\\sin(n+3)}{2^{n+3}}+..\\frac{\\sin(n+k)}{2^{n+k}}\\Bigr|\\leq\\Bigl|\\frac{1}{2^{n+1}}+\\frac{1}{2^{n+2}}+\\frac{1}{2^{n+3}}+..\\frac{1}{2^{n+k}}\\Bigr|\\leq\\frac{1}{2^{n}}\\Bigl|\\frac{1}{2}+\\frac{1}{4}+\\frac{1}{8}+..\\frac{1}{2^k}\\Bigr|<\\frac{1}{2^{n}}<\\frac{1}{2^{N(\\varepsilon)}}=\\varepsilon$$\n",
        "\n",
        "### $$|a_n-a_{n+k}|<\\varepsilon$$\n",
        "\n",
        "Таким образом, согласно критерию Коши, данная последовательность сходится.\n",
        "\n",
        "### $$\\frac{1}{2^{N(\\varepsilon)}}=\\varepsilon \\,\\,\\,\\Rightarrow\\,\\,\\, 2^{N(\\varepsilon)}=\\frac{1}{\\varepsilon}\\,\\,\\,\\Rightarrow\\,\\,\\, N(\\varepsilon)=-\\log_2 \\varepsilon$$"
      ]
    },
    {
      "cell_type": "code",
      "metadata": {
        "colab": {
          "base_uri": "https://localhost:8080/"
        },
        "id": "S-eSxFIgDmnL",
        "outputId": "173b4c02-aa12-4a0e-a466-11ee577c2b4b"
      },
      "source": [
        "from math import log\n",
        "\n",
        "eps = 10**-7\n",
        "N = -log(eps, 2)\n",
        "print(N)"
      ],
      "execution_count": null,
      "outputs": [
        {
          "output_type": "stream",
          "text": [
            "23.25349666421154\n"
          ],
          "name": "stdout"
        }
      ]
    },
    {
      "cell_type": "markdown",
      "metadata": {
        "id": "PmFDWzTsIh3k"
      },
      "source": [
        "24-й член последовательности можно взять в качестве предела с точностью $\\varepsilon=10^{-7}$?"
      ]
    },
    {
      "cell_type": "code",
      "metadata": {
        "colab": {
          "base_uri": "https://localhost:8080/"
        },
        "id": "PfBZAJXV_puI",
        "outputId": "6edae044-9084-411d-bc30-e396616161e0"
      },
      "source": [
        "from math import sin\n",
        "\n",
        "n = 24\n",
        "k = int(input('Введите k: '))\n",
        "\n",
        "def get_a(x):\n",
        "    a = 0\n",
        "    for i in range(1, x+1, 1):\n",
        "        a += sin(i)/2**i\n",
        "    return a\n",
        "\n",
        "res = abs(get_a(n) - get_a(n+k))\n",
        "\n",
        "if res < eps:\n",
        "    print('Последовательность сходится!')\n",
        "else:\n",
        "    print('Последовательность не сходится!')\n"
      ],
      "execution_count": null,
      "outputs": [
        {
          "output_type": "stream",
          "text": [
            "Введите k: 1\n",
            "Последовательность сходится!\n"
          ],
          "name": "stdout"
        }
      ]
    },
    {
      "cell_type": "markdown",
      "metadata": {
        "id": "bm2eWFW6M_M2"
      },
      "source": [
        "__5$^*$.__  Пользуясь критерием Коши, докажите расходимость последовательности:\n",
        "\n",
        "### $$b_n=1+\\frac{1}{2}+\\frac{1}{3}+..\\frac{1}{n}\\,\\,\\,\\,\\,\\Rightarrow$$\n",
        "\n",
        "### $$\\Bigl\\{b_n\\Bigr\\}_{n=1}^\\infty=\\Bigl\\{1, 1+\\frac{1}{2},1+\\frac{1}{2}+\\frac{1}{3}, ..., b_n,...\\Bigr\\}$$"
      ]
    },
    {
      "cell_type": "markdown",
      "metadata": {
        "id": "beMzP5anzbNk"
      },
      "source": [
        "### $$|b_n-b_{n+k}|=\\Bigl|\\frac{1}{n+1}+\\frac{1}{n+2}+..\\frac{1}{n+k}\\Bigr|=\\frac{1}{n+1}\\Bigl|1+\\frac{n+1}{n+2}+..\\frac{n+1}{n+k}\\Bigr|>\\frac{1}{n+1}$$"
      ]
    }
  ]
}