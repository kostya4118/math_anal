{
  "nbformat": 4,
  "nbformat_minor": 0,
  "metadata": {
    "colab": {
      "name": "hw_4.ipynb",
      "provenance": []
    },
    "kernelspec": {
      "name": "python3",
      "display_name": "Python 3"
    },
    "language_info": {
      "name": "python"
    }
  },
  "cells": [
    {
      "cell_type": "markdown",
      "metadata": {
        "id": "cKvS7wNNrqxk"
      },
      "source": [
        "__1.__ Найти предел функции:\n",
        "\n",
        "### $$а)\\,\\,\\,\\,\\lim_{x\\to 6} \\frac{x^2-36}{x^2-x-30}=\\Bigl(\\frac{0}{0}\\Bigr)=\\lim_{x\\to 6} \\frac{(x-6)(x+6)}{(x-6)(x+5)}=\\lim_{x\\to 6} \\frac{x+6}{x+5}=\\frac{12}{11}$$\n",
        "\n",
        "### $$б)\\,\\,\\,\\,\\lim_{x\\to 7} \\frac{x^2-49}{x^2-13x+42}=\\Bigl(\\frac{0}{0}\\Bigr)=\\lim_{x\\to 7} \\frac{(x-7)(x+7)}{(x-7)(x-6)}=\\lim_{x\\to 7} \\frac{x+7}{x-6}=\\frac{14}{1}=14$$\n",
        "\n",
        "### $$в^*)\\,\\,\\,\\,\\lim_{x\\to 7} \\frac{\\sqrt{x+2}-\\sqrt[3]{x+20}}{\\sqrt[4]{x+9}-2}=\\Bigl(\\frac{0}{0}\\Bigr)=\\lim_{x\\to 7} \\frac{\\sqrt{x+2}-\\sqrt[3]{x+20}}{\\sqrt[4]{x+9}-2}=\n",
        "\\lim_{x\\to 7} \\frac{(\\sqrt{x+2}-\\sqrt[3]{x+20})\\cdot(\\sqrt{x+2}+\\sqrt[3]{x+20})\\cdot(\\sqrt[4]{x+9}+2)}{(\\sqrt[4]{x+9}-2)\\cdot(\\sqrt{x+2}+\\sqrt[3]{x+20})\\cdot(\\sqrt[4]{x+9}+2)}=\n",
        "\\lim_{x\\to 7} \\frac{((x+2)-\\sqrt[3]{(x+20)^2})\\cdot(\\sqrt[4]{x+9}+2)}{(\\sqrt{x+9}-4)\\cdot(\\sqrt{x+2}+\\sqrt[3]{x+20})}=\n",
        "\\lim_{x\\to 7} \\frac{2\\cdot((x+2)-\\sqrt[3]{(x+20)^2})}{3\\cdot(\\sqrt{x+9}-4)}=\n",
        "\\lim_{x\\to 7} \\frac{2\\cdot((x+2)-\\sqrt[3]{(x+20)^2})\\cdot((x+2)^2+(x+2)\\sqrt[3]{(x+20)^2}+\\sqrt[3]{(x+20)^4})\\cdot(\\sqrt{x+9}+4)}{3\\cdot(\\sqrt{x+9}-4)\\cdot(\\sqrt{x+9}+4)\\cdot((x+2)^2+(x+2)\\sqrt[3]{(x+20)^2}+\\sqrt[3]{(x+20)^4})}=\n",
        "\\lim_{x\\to 7} \\frac{2\\cdot((x+2)^3-{(x+20)^2})\\cdot(\\sqrt{x+9}+4)}{3\\cdot(x-7)\\cdot((x+2)^2+(x+2)\\sqrt[3]{(x+20)^2}+\\sqrt[3]{(x+20)^4})}=\n",
        "\\lim_{x\\to 7} \\frac{16\\cdot((x+2)^3-{(x+20)^2})}{729\\cdot(x-7)}=\n",
        "\\lim_{x\\to 7} \\frac{16\\cdot(x^3+6x^2+12x+8-x^2-40x-400)}{729\\cdot(x-7)}=\n",
        "\\lim_{x\\to 7} \\frac{16\\cdot(x^3+5x^2-28x-392)}{729\\cdot(x-7)}=\n",
        "\\lim_{x\\to 7} \\frac{16\\cdot(x^2+12x+56)\\cdot(x-7)}{729\\cdot(x-7)}=\n",
        "\\lim_{x\\to 7} \\frac{16\\cdot(x^2+12x+56)}{729}=\n",
        "\\frac{16\\cdot189}{729}=4\\frac{4}{27}$$\n",
        "\n",
        "### $$г)\\,\\,\\,\\,\\lim_{x\\to 0} \\frac{3x\\,\\mbox{tg}\\,4x}{1-\\cos4x}=\n",
        "\\,\\lim_{x\\to 0} \\frac{3x \\cdot4x}{2\\sin^22x}=\n",
        "\\,\\lim_{x\\to 0} \\frac{12x^2}{2(2x)^2}=\n",
        "\\frac{12}{8}=1\\frac{1}{2}$$\n",
        "\n",
        "### $$д^{**})\\,\\,\\,\\,\\lim_{x\\to 0} \\frac{\\sqrt2x^2\\sin4x}{(1-\\cos2x)^{\\frac{3}{2}}}=$$\n",
        "\n",
        "### $$е)\\,\\,\\,\\,\\lim_{x\\to \\infty} \\Bigr(\\frac{4x}{4x+3}\\Bigl)^\\frac{5x^2}{7x-1}=(1)^{+\\infty}=\n",
        "\\lim_{x\\to \\infty} e^{\\Bigl(\\frac{4x}{4x+3}-1\\Bigr)\\frac{5x^2}{7x-1}}=\n",
        "\\lim_{x\\to \\infty} e^{\\frac{-3}{4x+3}\\cdot\\frac{5x^2}{7x-1}}=\n",
        "\\lim_{x\\to \\infty} e^{\\frac{-15x^2}{28x^2+17x-3}}=\n",
        "e^{-\\frac{15}{28}}$$\n",
        "\n",
        "### $$ж^*)\\,\\,\\,\\,\\lim_{x\\to +0} \\frac{5^x-1}{x}$$\n",
        "\n",
        "### $$з^*)\\,\\,\\,\\,\\lim_{x\\to +\\infty} \\frac{\\ln(x^2-x+1)}{\\ln(x^{10}+x+1)}$$"
      ]
    },
    {
      "cell_type": "markdown",
      "metadata": {
        "id": "jvvetX2PrmG-"
      },
      "source": [
        "__2*.__ На языке Python предложить алгоритм вычисляющий численно предел последовательности\n",
        "\n",
        "### $$\\lim_{n\\to +\\infty} \\frac{n}{\\sqrt[n]{n!}}$$"
      ]
    },
    {
      "cell_type": "code",
      "metadata": {
        "colab": {
          "base_uri": "https://localhost:8080/",
          "height": 232
        },
        "id": "OFxjDCHKi6CN",
        "outputId": "24aa84c2-a957-4094-c509-21e77c86d2e6"
      },
      "source": [
        "from math import lgamma\n",
        "import numpy as np\n",
        "from decimal import Decimal\n",
        "\n",
        "eps = 0.00001\n",
        "lim = 1\n",
        "\n",
        "n = 2\n",
        "a2=1\n",
        "\n",
        "while lim > eps:\n",
        "    a1 = a2\n",
        "    a2 = n / (np.e**lgamma(n+1) ** Decimal(1/n))\n",
        "    lim=abs(a1-a2)\n",
        "    n += 1\n",
        "print (f'Численное значение предела: {a2}\\n',f'Погрешность: {lim}\\n', f'Число шагов: {n-1}')\n"
      ],
      "execution_count": null,
      "outputs": [
        {
          "output_type": "error",
          "ename": "TypeError",
          "evalue": "ignored",
          "traceback": [
            "\u001b[0;31m---------------------------------------------------------------------------\u001b[0m",
            "\u001b[0;31mTypeError\u001b[0m                                 Traceback (most recent call last)",
            "\u001b[0;32m<ipython-input-8-eb95cd07d1b7>\u001b[0m in \u001b[0;36m<module>\u001b[0;34m()\u001b[0m\n\u001b[1;32m     11\u001b[0m \u001b[0;32mwhile\u001b[0m \u001b[0mlim\u001b[0m \u001b[0;34m>\u001b[0m \u001b[0meps\u001b[0m\u001b[0;34m:\u001b[0m\u001b[0;34m\u001b[0m\u001b[0;34m\u001b[0m\u001b[0m\n\u001b[1;32m     12\u001b[0m     \u001b[0ma1\u001b[0m \u001b[0;34m=\u001b[0m \u001b[0ma2\u001b[0m\u001b[0;34m\u001b[0m\u001b[0;34m\u001b[0m\u001b[0m\n\u001b[0;32m---> 13\u001b[0;31m     \u001b[0ma2\u001b[0m \u001b[0;34m=\u001b[0m \u001b[0mn\u001b[0m \u001b[0;34m/\u001b[0m \u001b[0;34m(\u001b[0m\u001b[0mnp\u001b[0m\u001b[0;34m.\u001b[0m\u001b[0me\u001b[0m\u001b[0;34m**\u001b[0m\u001b[0mlgamma\u001b[0m\u001b[0;34m(\u001b[0m\u001b[0mn\u001b[0m\u001b[0;34m+\u001b[0m\u001b[0;36m1\u001b[0m\u001b[0;34m)\u001b[0m \u001b[0;34m**\u001b[0m \u001b[0mDecimal\u001b[0m\u001b[0;34m(\u001b[0m\u001b[0;36m1\u001b[0m\u001b[0;34m/\u001b[0m\u001b[0mn\u001b[0m\u001b[0;34m)\u001b[0m\u001b[0;34m)\u001b[0m\u001b[0;34m\u001b[0m\u001b[0;34m\u001b[0m\u001b[0m\n\u001b[0m\u001b[1;32m     14\u001b[0m     \u001b[0mlim\u001b[0m\u001b[0;34m=\u001b[0m\u001b[0mabs\u001b[0m\u001b[0;34m(\u001b[0m\u001b[0ma1\u001b[0m\u001b[0;34m-\u001b[0m\u001b[0ma2\u001b[0m\u001b[0;34m)\u001b[0m\u001b[0;34m\u001b[0m\u001b[0;34m\u001b[0m\u001b[0m\n\u001b[1;32m     15\u001b[0m     \u001b[0mn\u001b[0m \u001b[0;34m+=\u001b[0m \u001b[0;36m1\u001b[0m\u001b[0;34m\u001b[0m\u001b[0;34m\u001b[0m\u001b[0m\n",
            "\u001b[0;31mTypeError\u001b[0m: unsupported operand type(s) for ** or pow(): 'float' and 'decimal.Decimal'"
          ]
        }
      ]
    },
    {
      "cell_type": "markdown",
      "metadata": {
        "id": "3ek97N7Ko2Qi"
      },
      "source": [
        "Не хватает ресурсов!"
      ]
    }
  ]
}