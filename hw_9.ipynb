{
  "nbformat": 4,
  "nbformat_minor": 0,
  "metadata": {
    "colab": {
      "name": "hw_9.ipynb",
      "provenance": []
    },
    "kernelspec": {
      "name": "python3",
      "display_name": "Python 3"
    },
    "language_info": {
      "name": "python"
    }
  },
  "cells": [
    {
      "cell_type": "markdown",
      "metadata": {
        "id": "I3Hd5oLyFeLy"
      },
      "source": [
        "__1.__ Вычислить неопределенный интеграл\n",
        "\n",
        "### $$\\int \\frac{2x+3}{(x-2)(x+5)}\\,dx$$\n",
        "\n",
        "### $$\\frac{2x+3}{(x-2)(x+5)}=\\frac{A}{x-2}+\\frac{B}{x+5}=\\frac{A(x+5)+B(x-2)}{(x-2)(x+5)}=\\frac{Ax+5A+Bx-2B}{(x-2)(x+5)}=\\frac{x\\left(A+B\\right)+5A-2B}{(x-2)(x+5)}$$\n",
        "\n",
        "### $$\\begin{cases}\n",
        "   A+B=2 \\\\\n",
        "   5A-2B=3\n",
        " \\end{cases}\\,\\,\\,\\,\\,\\Rightarrow\\,\\,\\,\\,\\, \n",
        " \\begin{cases}\n",
        "   A=2-B \\\\\n",
        "   10-5B-2B=3 \n",
        " \\end{cases}\\,\\,\\,\\,\\,\\Rightarrow\\,\\,\\,\\,\\, \n",
        " \\begin{cases}\n",
        "   A=1 \\\\\n",
        "   B=1\n",
        " \\end{cases}$$ \n",
        "\n",
        " ### $$\\int \\frac{2x+3}{(x-2)(x+5)}\\,dx=\n",
        " \\int \\left(\\frac{1}{x-2}+\\frac{1}{x+5}\\right)\\,dx=\n",
        " \\int \\left(\\frac{1}{x-2}\\right)\\,dx+ \\int \\left(\\frac{1}{x+5}\\right)\\,dx$$\n",
        "\n",
        "$$x-2=t\\,\\,\\,\\,\\,\\Rightarrow\\,\\,\\,\\,\\, x=t+2\\,\\,\\,\\,\\,\\Rightarrow\\,\\,\\,\\,\\,dx=dt$$\n",
        "$$x+5=u\\,\\,\\,\\,\\,\\Rightarrow\\,\\,\\,\\,\\, x=u-5\\,\\,\\,\\,\\,\\Rightarrow\\,\\,\\,\\,\\,dx=du$$\n",
        "\n",
        " ### $$\\int \\left(\\frac{1}{t}\\right)\\,dt+ \\int \\left(\\frac{1}{u}\\right)\\,du=\\ln |t|+\\ln |u| +C = \\ln |x-2|+\\ln |x+5| +C = \\ln (|x-2|\\cdot|x+5|) +C$$"
      ]
    },
    {
      "cell_type": "markdown",
      "metadata": {
        "id": "5Bq8IDYxjWir"
      },
      "source": [
        "__2.__ Вычислить неопределенный интеграл\n",
        "\n",
        "### $$\\int e^{2x}\\cos 3x\\,dx$$\n",
        "### $$U=e^{2x}\\,\\,\\,\\,\\,\\Rightarrow\\,\\,\\,\\,\\, dU=2e^{2x}dx$$ \n",
        "### $$dV=\\cos 3x\\,\\,\\,\\,\\,\\Rightarrow\\,\\,\\,\\,\\, V=\\frac{1}{3}\\sin3x$$ \n",
        "\n",
        "### $$\\int_{ }^{ }e^{2x}\\cos\\ 3x=e^{2x}\\cdot\\frac{1}{3}\\sin3x-\\int_{ }^{ }\\frac{1}{3}\\sin3x\\cdot2e^{2x}dx=e^{2x}\\cdot\\frac{1}{3}\\sin3x-\\frac{2}{3}\\int_{ }^{ }e^{2x}\\sin3x\\,dx$$\n",
        "### $$\\int_{ }^{ }e^{2x}\\sin3x\\,dx$$\n",
        "### $$U=e^{2x}\\,\\,\\,\\,\\,\\Rightarrow\\,\\,\\,\\,\\, dU=2e^{2x}dx$$ \n",
        "### $$dV=\\sin\\ 3x\\,\\,\\,\\,\\,\\Rightarrow\\,\\,\\,\\,\\, V=-\\frac{1}{3}\\cos3x$$ \n",
        "\n",
        "### $$\\int_{ }^{ }e^{2x}\\sin3x\\ dx=-\\frac{1}{3}\\cos3x\\cdot e^{2x}\\ +\\frac{2}{3}\\int_{ }^{ }e^{2x}\\cos3x\\ dx$$\n",
        "### $$\\int_{ }^{ }e^{2x}\\cos3x\\ dx=e^{2x}\\cdot\\frac{1}{3}\\sin3x-\\frac{2}{3}\\cdot\\left(-\\frac{1}{3}\\cos3x\\cdot e^{2x}\\ +\\frac{2}{3}\\int_{ }^{ }e^{2x}\\cos3x\\ dx\\right)=e^{2x}\\cdot\\frac{1}{3}\\sin3x+\\frac{2}{9}e^{2x}\\cos3x\\ -\\frac{4}{9}\\int_{ }^{ }e^{2x}\\cos3x\\ dx$$\n",
        "### $$\\int_{ }^{ }\\cos\\ 3x\\cdot e^{2x}dx+\\frac{4}{9}\\int_{ }^{ }\\cos3x\\cdot e^{2x}dx=e^{2x}\\cdot\\frac{1}{3}\\sin3x+\\frac{2}{9}\\cos3x\\cdot e^{2x}\\ $$\n",
        "### $$\\frac{13}{9}\\int_{ }^{ }\\cos3x\\cdot e^{2x}dx=e^{2x}\\cdot\\frac{1}{3}\\sin3x+\\frac{2}{9}\\cos3x\\cdot e^{2x}\\ $$\n",
        "### $$\\int_{ }^{ }\\cos3x\\cdot e^{2x}dx=\\left(e^{2x}\\cdot\\frac{1}{3}\\sin3x+\\frac{2}{9}\\cos3x\\cdot e^{2x}\\ \\right)\\cdot\\frac{9}{13}=\\frac{e^{2x}\\cdot\\left(3\\sin3x+2\\cos3x\\right)}{13}+C$$"
      ]
    },
    {
      "cell_type": "markdown",
      "metadata": {
        "id": "wRa4o35tHS8l"
      },
      "source": [
        "__3.__ Вычислить определенный интеграл\n",
        "\n",
        "### $$\\int\\limits_0^{\\ln2} xe^{-x}\\,dx$$\n",
        "\n",
        "### $$\\int_{ }^{ }e^{-x}dx$$\n",
        "\n",
        "$$-x=t\\,\\,\\,\\,\\,\\Rightarrow\\,\\,\\,\\,\\, x=-t\\,\\,\\,\\,\\,\\Rightarrow\\,\\,\\,\\,\\,dx=-dt$$\n",
        "\n",
        "### $$-\\int_{ }^{ }e^{t}dt=-e^{t}\\,\\,\\,\\,\\,\\Rightarrow\\,\\,\\,\\,\\, -e^{-x}$$\n",
        "\n",
        "### $$\\int_{ }^{ }xe^{-x}dx$$\n",
        "### $$U=x\\,\\,\\,\\,\\,\\Rightarrow\\,\\,\\,\\,\\, dU=dx$$ \n",
        "### $$dV=e^{-x}dx\\,\\,\\,\\,\\,\\Rightarrow\\,\\,\\,\\,\\, V=-e^{-x}$$ \n",
        "\n",
        "### $$\\int_{ }^{ }xe^{-x}dx=x\\cdot\\left(-e^{-x}\\right)-\\int_{ }^{ }-e^{-x}dx=x\\cdot\\left(-e^{-x}\\right)+\\int_{ }^{ }e^{-x}dx=x\\cdot\\left(-e^{-x}\\right)-e^{-x}=-e^{-x}\\left(x+1\\right)+C$$\n",
        "\n",
        "### $$\\int_{0}^{\\ln2}xe^{-x}dx=-e^{-x}\\left(x+1\\right)\\bigg|_0^{\\ln2}=-e^{-\\ln2}\\left(\\ln2+1\\right)-\\left(-e^{0}\\left(0+1\\right)\\right)=-\\frac{\\ln2+1}{2}-\\left(-1\\right)=\\frac{1-\\ln2}{2}$$"
      ]
    },
    {
      "cell_type": "markdown",
      "metadata": {
        "id": "t9h6NwVqHZXj"
      },
      "source": [
        "__4.__ Вычислить несобственный интеграл\n",
        "\n",
        "### $$\\int\\limits_2^{+\\infty} \\frac{dx}{x^2+x-2}$$\n",
        "\n",
        "### $$\\int\\limits_2^{+\\infty} \\frac{dx}{x^2+x-2}=\n",
        "\\lim_{\\varepsilon\\to 0, b\\to +\\infty}\\int\\limits_{2+\\varepsilon}^{b} \\frac{dx}{x^2+x-2}=\n",
        "\\lim_{\\varepsilon\\to 0, b\\to +\\infty}\\int\\limits_{2+\\varepsilon}^{b} \\left(\\frac{1}{\\left(x-1\\right)\\left(x+2\\right)}\\right)dx$$\n",
        "\n",
        "### $$\\frac{1}{\\left(x-1\\right)\\left(x+2\\right)}=\\frac{A}{x-1}+\\frac{B}{x+2}=\\frac{A\\left(x+2\\right)+B\\left(x-1\\right)}{\\left(x-1\\right)\\left(x+2\\right)}=\\frac{Ax+2A+Bx-B}{\\left(x-1\\right)\\left(x+2\\right)}=\\frac{x\\left(A+B\\right)+2A-B}{\\left(x-1\\right)\\left(x+2\\right)}$$\n",
        "\n",
        "### $$\\begin{cases}\n",
        "   A+B=0 \\\\\n",
        "   2A-B=1\n",
        " \\end{cases}\\,\\,\\,\\,\\,\\Rightarrow\\,\\,\\,\\,\\, \n",
        " \\begin{cases}\n",
        "   B=-A \\\\\n",
        "   2A=1+B \n",
        " \\end{cases}\\,\\,\\,\\,\\,\\Rightarrow\\,\\,\\,\\,\\, \n",
        " \\begin{cases}\n",
        "   A=\\frac{1}{3} \\\\\n",
        "   B =-\\frac{1}{3}\n",
        " \\end{cases}$$ \n",
        "\n",
        "### $$\\frac{1}{\\left(x-1\\right)\\left(x+2\\right)}=\\frac{1}{3(x-1)}-\\frac{1}{3(x+2)}$$\n",
        "\n",
        "### $$\\lim_{\\varepsilon\\to 0, b\\to +\\infty}\\int\\limits_{2+\\varepsilon}^{b} \\left(\\frac{1}{\\left(x-1\\right)\\left(x+2\\right)}\\right)dx=\\lim_{\\varepsilon\\to 0, b\\to +\\infty}\\int\\limits_{2+\\varepsilon}^{b} \\left(\\frac{1}{3(x-1)}-\\frac{1}{3(x+2)}\\right)dx=\n",
        "\\lim_{\\varepsilon\\to 0, b\\to +\\infty}\\frac{1}{3}\\int\\limits_{2+\\varepsilon}^{b} \\left(\\frac{1}{x-1}\\right)dx-\\lim_{\\varepsilon\\to 0, b\\to +\\infty}\\frac{1}{3}\\int\\limits_{2+\\varepsilon}^{b} \\left(\\frac{1}{x+2}\\right)dx$$\n",
        "\n",
        "$$x-1=t\\,\\,\\,\\,\\,\\Rightarrow\\,\\,\\,\\,\\, x=t+1\\,\\,\\,\\,\\,\\Rightarrow\\,\\,\\,\\,\\,dx=dt$$\n",
        "$$x+2=u\\,\\,\\,\\,\\,\\Rightarrow\\,\\,\\,\\,\\, x=u-2\\,\\,\\,\\,\\,\\Rightarrow\\,\\,\\,\\,\\,dx=du$$\n",
        "\n",
        "### $$\\lim_{\\varepsilon\\to 0, b\\to +\\infty}\\frac{1}{3}\\int\\limits_{2+\\varepsilon}^{b} \\left(\\frac{1}{t}\\right)dt-\\lim_{\\varepsilon\\to 0, b\\to +\\infty}\\frac{1}{3}\\int\\limits_{2+\\varepsilon}^{b} \\left(\\frac{1}{u}\\right)du=\n",
        "\\lim_{\\varepsilon\\to 0, b\\to +\\infty}\\left(\\frac{\\ln |t|}{3}-\\frac{\\ln |u|}{3}\\right)\\bigg|_{2+\\varepsilon}^{b}$$\n",
        "\n",
        "### $$\\lim_{\\varepsilon\\to 0, b\\to +\\infty}\\left(\\frac{\\ln |x-1|}{3}-\\frac{\\ln |x+2|}{3}\\right)\\bigg|_{2+\\varepsilon}^{b}=\n",
        "0-\\frac{\\ln |1|}{3}+\\frac{\\ln |4|}{3}=\\frac{\\ln 4}{3}$$"
      ]
    },
    {
      "cell_type": "markdown",
      "metadata": {
        "id": "wYwIbs1300jS"
      },
      "source": [
        "__5*.__ Вычислить несобственный интеграл\n",
        "\n",
        "### $$\\int\\limits_0^{1} \\ln x\\,dx$$\n",
        "\n",
        "### $$\\int\\limits_0^{1} \\ln x\\,dx=\\lim_{a\\to 0}\\int\\limits_{a}^{1} \\ln x\\,dx$$\n",
        "\n",
        "### $$\\int_{ }^{ }\\ln x\\,dx$$\n",
        "### $$U=\\ln x\\,\\,\\,\\,\\,\\Rightarrow\\,\\,\\,\\,\\, dU=\\frac{dx}{x}$$ \n",
        "### $$dV=dx\\,\\,\\,\\,\\,\\Rightarrow\\,\\,\\,\\,\\, V=x$$ \n",
        "### $$\\int_{ }^{ }\\ln x\\,dx=x \\ln x-\\int x \\cdot \\frac{dx}{x}=x \\ln x -x+C=x (\\ln x -1)+C$$\n",
        "\n",
        "### $$\\int\\limits_0^{1} \\ln x\\,dx=\\lim_{a\\to 0} \\,(x (\\ln x -1))\\bigg|_{a}^{1}=\n",
        "\\lim_{a\\to 0} \\,(1\\cdot (\\ln 1 - 1)-a\\cdot (\\ln a - 1))=-1$$"
      ]
    }
  ]
}