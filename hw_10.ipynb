{
  "nbformat": 4,
  "nbformat_minor": 0,
  "metadata": {
    "colab": {
      "name": "hw_10.ipynb",
      "provenance": []
    },
    "kernelspec": {
      "name": "python3",
      "display_name": "Python 3"
    },
    "language_info": {
      "name": "python"
    }
  },
  "cells": [
    {
      "cell_type": "markdown",
      "metadata": {
        "id": "NsEltIgb38G7"
      },
      "source": [
        "__1.__ Исследовать сходимость ряда. \n",
        "\n",
        "\n",
        "### $$\\frac{1}{2\\sqrt2}+\\frac{1}{3\\sqrt3}+\\,...\\,+\\frac{1}{(n+1)\\sqrt{n+1}}+\\,...\\,=\\sum\\limits_{n=1}^{+\\infty}\\frac{1}{(n+1)\\sqrt{n+1}}$$\n",
        "\n",
        "(*) Двумя различными признаками."
      ]
    },
    {
      "cell_type": "markdown",
      "metadata": {
        "id": "Uubut-VG4jLG"
      },
      "source": [
        "\n",
        "### $$\\frac{1}{(n+1)\\sqrt{n+1}}=\\frac{1}{(n+1)\\cdot(n+1)^{\\frac{1}{2}}}=\\frac{1}{(n+1)^{\\frac{3}{2}}}$$\n",
        "### $$O\\Bigr(\\frac{1}{n^{\\frac{3}{2}}}\\Bigl)$$\n",
        "т.к. степень равна $\\frac{3}{2}>1$, то ряд сходится.\n",
        "\n",
        "\n",
        "\n",
        "### $$\\int\\limits_{1}^{+\\infty}\\frac{dx}{(n+1)\\sqrt{n+1}}$$"
      ]
    },
    {
      "cell_type": "code",
      "metadata": {
        "colab": {
          "base_uri": "https://localhost:8080/",
          "height": 38
        },
        "id": "RKOdCedW1Tyq",
        "outputId": "7758a37e-8041-40a6-bb75-e6ce40f130f7"
      },
      "source": [
        "from sympy import *\n",
        "init_printing()\n",
        "n=Symbol('n')\n",
        "f=1/((n+1)*sqrt(n+1))\n",
        "integrate(f,(n, 1, +oo))"
      ],
      "execution_count": null,
      "outputs": [
        {
          "output_type": "execute_result",
          "data": {
            "image/png": "[encoded data removed]",
            "text/latex": "$\\displaystyle \\sqrt{2}$",
            "text/plain": [
              "√2"
            ]
          },
          "metadata": {},
          "execution_count": 4
        }
      ]
    },
    {
      "cell_type": "markdown",
      "metadata": {
        "id": "rcx4RkR_2SfK"
      },
      "source": [
        "*Интеграл* посчитать получилось, следовательно ряд сходится."
      ]
    },
    {
      "cell_type": "markdown",
      "metadata": {
        "id": "5d2ogoex2VpV"
      },
      "source": [
        "__2.__ Исследовать сходимость ряда\n",
        "\n",
        "### $$\\frac{1000}{1!}+\\frac{1000^2}{2!}+\\,...\\,+\\frac{1000^n}{n!}+\\,...\\,=\\sum\\limits_{n=1}^{+\\infty}\\frac{1000^n}{n!}$$\n",
        "\n",
        "### $$\\lim_{n\\to +\\infty}\\frac{a_{n+1}}{a_{n}}=\\lim_{n\\to +\\infty}\\frac{1000^{n+1}}{(n+1)!}:\\frac{1000^n}{n!}=\\lim_{n\\to +\\infty}\\frac{1000^{n}\\cdot1000\\cdot  n!}{(n+1)\\cdot n!\\cdot 1000^n}=\\lim_{n\\to +\\infty}\\frac{1000}{n+1}=\\frac{1000}{\\infty}$$\n",
        "\n",
        "т.к. предел <1 , ряд сходится."
      ]
    },
    {
      "cell_type": "markdown",
      "metadata": {
        "id": "iEF8abUe57qn"
      },
      "source": [
        "__3*.__ Исследовать сходимость ряда\n",
        "\n",
        "### $$\\frac{2\\cdot1!}{1}+\\frac{2^2\\cdot2!}{2^2}+\\,...\\,+\\frac{2^n\\cdot n!}{n^n}+\\,...\\,=\\sum\\limits_{n=1}^{+\\infty}\\frac{2^n\\cdot n!}{n^n}$$\n",
        "\n",
        "### $$\\lim_{n\\to +\\infty}\\frac{a_{n+1}}{a_{n}}=\\lim_{n\\to +\\infty}\\frac{2^{n+1}\\cdot (n+1)!}{(n+1)^{n+1}}:\\frac{2^n\\cdot n!}{n^n}=\\lim_{n\\to +\\infty}\\frac{2^{n}\\cdot2\\cdot n^{n}\\cdot(n+1)!}{(n+1)\\cdot(n+1)^{n}\\cdot2^{n}\\cdot n!}=\\lim_{n\\to +\\infty}\\frac{2\\cdot n^{n}\\cdot(n+1)!}{(n+1)\\cdot(n+1)^{n}\\cdot n!}=\\lim_{n\\to +\\infty}\\frac{2\\cdot n^{n}}{(n+1)^{n}}=\\lim_{n\\to +\\infty}2\\cdot\\left(\\frac{n}{n+1}\\right)^{n}=\\lim_{n\\to +\\infty}2\\cdot e^{\\left(\\left(\\frac{n}{n+1}-1\\right)^{ }\\cdot n\\right)}=\\lim_{n\\to +\\infty}2\\cdot e^{\\left(\\left(\\frac{-1}{n+1}\\right)^{ }\\cdot n\\right)}=\\lim_{n\\to +\\infty}2\\cdot e^{\\frac{-n}{n+1}}=2\\cdot e^{-1}=\\frac{2}{e}$$\n",
        "т.к. предел <1 , ряд сходится."
      ]
    },
    {
      "cell_type": "markdown",
      "metadata": {
        "id": "GlzeJkfHUl0d"
      },
      "source": [
        "__4*.__ Исследовать сходимость ряда\n",
        "\n",
        "### $$\\frac{3\\cdot1!}{1}+\\frac{3^2\\cdot2!}{2^2}+\\,...\\,+\\frac{3^n\\cdot n!}{n^n}+\\,...\\,=\\sum\\limits_{n=1}^{+\\infty}\\frac{3^n\\cdot n!}{n^n}$$\n",
        "\n",
        "### $$\\lim_{n\\to +\\infty}\\frac{a_{n+1}}{a_{n}}=\\lim_{n\\to +\\infty}\\frac{3^{n+1}\\cdot (n+1)!}{(n+1)^{n+1}}:\\frac{3^n\\cdot n!}{n^n}=\\lim_{n\\to +\\infty}\\frac{3^{n}\\cdot3\\cdot n^{n}\\cdot(n+1)!}{(n+1)\\cdot(n+1)^{n}\\cdot3^{n}\\cdot n!}=\\lim_{n\\to +\\infty}\\frac{3\\cdot n^{n}\\cdot(n+1)!}{(n+1)\\cdot(n+1)^{n}\\cdot n!}=\\lim_{n\\to +\\infty}\\frac{3\\cdot n^{n}}{(n+1)^{n}}=\\lim_{n\\to +\\infty}3\\cdot\\left(\\frac{n}{n+1}\\right)^{n}=\\lim_{n\\to +\\infty}3\\cdot e^{\\left(\\left(\\frac{n}{n+1}-1\\right)^{ }\\cdot n\\right)}=\\lim_{n\\to +\\infty}3\\cdot e^{\\left(\\left(\\frac{-1}{n+1}\\right)^{ }\\cdot n\\right)}=\\lim_{n\\to +\\infty}3\\cdot e^{\\frac{-n}{n+1}}=3\\cdot e^{-1}=\\frac{3}{e}$$\n",
        "т.к. предел >1 , ряд расходится."
      ]
    }
  ]
}