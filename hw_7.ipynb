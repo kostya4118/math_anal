{
  "nbformat": 4,
  "nbformat_minor": 0,
  "metadata": {
    "colab": {
      "name": "hw_7.ipynb",
      "provenance": []
    },
    "kernelspec": {
      "name": "python3",
      "display_name": "Python 3"
    },
    "language_info": {
      "name": "python"
    }
  },
  "cells": [
    {
      "cell_type": "markdown",
      "metadata": {
        "id": "tU4bUcSyJQ-O"
      },
      "source": [
        "__1.__ Найти частные производные первого и второго порядка. Убедиться в равенстве смешанных производных.\n",
        "\n",
        "### $$U=x^3+3xy^2+z^2-39x-36y+2z+26$$\n",
        "\n",
        "### $$U'_{x}=3x^2+3y^2-39$$\n",
        "### $$U'_{y}=6xy-36$$\n",
        "### $$U'_{z}=2z+2$$\n",
        "### $$U''_{xx}=6x$$\n",
        "### $$U''_{xy}=6y$$\n",
        "### $$U''_{xz}=0$$\n",
        "### $$U''_{yx}=6y$$\n",
        "### $$U''_{yy}=6x$$\n",
        "### $$U''_{yz}=0$$\n",
        "### $$U''_{zx}=0$$\n",
        "### $$U''_{zy}=0$$\n",
        "### $$U''_{zz}=2$$\n",
        "### $$U''_{xy}=U''_{yx}=6y; U''_{xz}=U''_{zx}=0; U''_{yz}=U''_{zy}=0$$"
      ]
    },
    {
      "cell_type": "markdown",
      "metadata": {
        "id": "BqNHYqHBf02U"
      },
      "source": [
        "__2.__ Найти частные производные первого и второго порядка. Убедиться в равенстве смешанных производных.\n",
        "\n",
        "### $$U=\\frac{256}{x}+\\frac{x^2}{y}+\\frac{y^2}{z}+z^2$$\n",
        "\n",
        "### $$U'_{x}=-256x^{-2}+\\frac{2x}{y}$$\n",
        "### $$U'_{y}=-x^2y^{-2}+\\frac{2y}{z}$$\n",
        "### $$U'_{z}=-y^2z^{-2}+2z$$\n",
        "### $$U''_{xx}=512x^{-3}+\\frac{2}{y}$$\n",
        "### $$U''_{xy}=-2xy^{-2}$$\n",
        "### $$U''_{xz}=0$$\n",
        "### $$U''_{yx}=-2xy^{-2}$$\n",
        "### $$U''_{yy}=2x^2y^{-3}+\\frac{2}{z}$$\n",
        "### $$U''_{yz}=-2yz^{-2}$$\n",
        "### $$U''_{zx}=0$$\n",
        "### $$U''_{zy}=-2yz^{-2}$$\n",
        "### $$U''_{zz}=2y^2z^{-3}+2$$\n",
        "### $$U''_{xy}=U''_{yx}=-2xy^{-2}; U''_{xz}=U''_{zx}=0; U''_{yz}=U''_{zy}=-2yz^{-2}$$"
      ]
    },
    {
      "cell_type": "markdown",
      "metadata": {
        "id": "9tp35Z396Cw4"
      },
      "source": [
        "__3.__ Найти производную функции $U=x^2+y^2+z^2$ по направлению вектора $\\overrightarrow{c}(-9,8,-12)$ в точке $M(8,-12,9)$\n",
        "\n",
        "### $$|\\overrightarrow{c}|=\\sqrt{(-9)^2+8^2+(-12)^2}=\\sqrt{289}=17$$\n",
        "\n",
        "### $$\\overrightarrow{c_{0}}=\\frac{\\overrightarrow{c}}{|\\overrightarrow{c}|}=\\Bigr(-\\frac{9}{17},\\frac{8}{17},-\\frac{12}{17}\\Bigl)$$\n",
        "\n",
        "### $$U'_{x}=2x$$\n",
        "\n",
        "### $$U'_{y}=2y$$\n",
        "\n",
        "### $$U'_{z}=2z$$\n",
        "\n",
        "### $$\\mbox{grad}U=(16, -24, 18)$$\n",
        "\n",
        "### $$U'_{\\overrightarrow{c}}=-\\frac{9}{17}\\cdot 16+\\frac{8}{17}\\cdot (-24)-\\frac{12}{17}\\cdot 18=\\frac{-552}{17}=-32\\frac{8}{17}$$"
      ]
    },
    {
      "cell_type": "markdown",
      "metadata": {
        "id": "mRfXFvGGLDfj"
      },
      "source": [
        "__4.__ Найти производную функции $U=e^{x^2+y^2+z^2}$ по направлению вектора $\\overrightarrow{c}(4,-13,-16)$ в точке $L(-16,4,-13)$\n",
        "\n",
        "### $$|\\overrightarrow{c}|=\\sqrt{4^2+(-13)^2+(-16)^2}=\\sqrt{441}=21$$\n",
        "\n",
        "### $$\\overrightarrow{c_{0}}=\\frac{\\overrightarrow{c}}{|\\overrightarrow{c}|}=\\Bigr(\\frac{4}{21},-\\frac{13}{21},-\\frac{16}{21}\\Bigl)$$\n",
        "\n",
        "### $$U'_{x}=2x\\cdot e^{x^2+y^2+z^2}$$\n",
        "\n",
        "### $$U'_{y}=2y\\cdot e^{x^2+y^2+z^2}$$\n",
        "\n",
        "### $$U'_{z}=2z\\cdot e^{x^2+y^2+z^2}$$\n",
        "\n",
        "### $$\\mbox{grad}U=(-32e^{441},8e^{441}, -26e^{441})$$\n",
        "\n",
        "### $$U'_{\\overrightarrow{c}}=\\frac{4}{21}\\cdot (-32e^{441})-\\frac{13}{21}\\cdot 8e^{441}-\\frac{16}{21}\\cdot (-26e^{441})=\\frac{184e^{441}}{21}$$\n",
        "\n"
      ]
    },
    {
      "cell_type": "markdown",
      "metadata": {
        "id": "cTP-vuiozZl_"
      },
      "source": [
        "__5*.__ Найти производную функции $U=\\log_{21}(x^2+y^2+z^2)$ в точке $F(-19,8,-4)$ по самому быстрому направлению.\n",
        "\n",
        "### $$U'_{x}=\\frac{2x}{(x^2+y^2+z^2)\\ln21}$$\n",
        "\n",
        "### $$U'_{y}=\\frac{2y}{(x^2+y^2+z^2)\\ln21}$$\n",
        "\n",
        "### $$U'_{z}=\\frac{2z}{(x^2+y^2+z^2)\\ln21}$$\n",
        "\n",
        "### $$\\mbox{grad}U=\\Bigl(-\\frac{38}{441\\ln21}, \\frac{16}{441\\ln21}, -\\frac{8}{441\\ln21}\\Bigl)$$\n",
        "\n",
        "### $$|\\mbox{grad}U|=\\sqrt{\\Bigl(-\\frac{38}{441\\ln21}\\Bigl)^2+\\Bigl(\\frac{16}{441\\ln21}\\Bigl)^2+\\Bigl(-\\frac{8}{441\\ln21}\\Bigl)^2}=\\frac{42}{441\\ln21}$$\n",
        "\n",
        "### $$\\mbox{grad}U_{0}=\\frac{\\mbox{grad}U}{|\\mbox{grad}U|}= \\Bigr(\\frac{-\\frac{38}{441\\ln21}}{\\frac{42}{441\\ln21}},\\frac{\\frac{16}{441\\ln21}}{\\frac{42}{441\\ln21}},\\frac{-\\frac{8}{441\\ln21}}{\\frac{42}{441\\ln21}}\\Bigl)=\\Bigl(-\\frac{19}{21},\\frac{8}{21},-\\frac{4}{21}\\Bigl)$$\n",
        "\n",
        "Скорость изменения по направлению градиента самая большая и она равна:\n",
        "\n",
        "### $$U'_{\\mbox{grad}U}=(\\mbox{grad}U_{0}\\cdot \\mbox{grad}U)=-\\frac{19}{21}\\cdot\\Bigl(-\\frac{38}{441\\ln21}\\Bigl)+\\frac{8}{21}\\cdot\\frac{16}{441\\ln21}+\\Bigl(-\\frac{4}{21}\\Bigl)\\cdot\\Bigl(-\\frac{8}{441\\ln21}\\Bigl)=\\frac{2}{21\\ln21}$$"
      ]
    },
    {
      "cell_type": "markdown",
      "metadata": {
        "id": "SE7Bgli24VbK"
      },
      "source": [
        "__6.__ Исследовать на экстремум функцию:\n",
        "\n",
        "### $$U=x^2y+\\frac{1}{3}y^3+2x^2+3y^2-1$$\n",
        "\n",
        "### $$\\begin{cases}\n",
        "   U'_{x}=2xy+4x=0, \\\\\n",
        "   U'_{y}=x^2+y^2+6y=0 \n",
        " \\end{cases}$$\n",
        "\n",
        "Решив систему получим 4 стационарные точки  $(0,0), (0, -6), (2\\sqrt2,-2), (-2\\sqrt2,-2)$. Теперь найдем вторые производные и составим матрицы Гёссе\n",
        " \n",
        "### $$U''_{xx}=2y+4$$ \n",
        "### $$U''_{xy}=U''_{yx}=2x$$  \n",
        "### $$U''_{yy}=2y+6$$\n",
        "\n",
        "В точке $(0,0)$: \n",
        " \n",
        "###  $$\\begin{pmatrix}\n",
        "4 & 0\\\\ \n",
        "0 & 6\\\\\n",
        "\\end{pmatrix}$$\n",
        "\n",
        "### $$\\Delta_{1}=U''_{xx}=4>0$$\n",
        "\n",
        "### $$\\Delta_{2}=\\begin{vmatrix}\n",
        "U''_{xx} & U''_{xy}\\\\ \n",
        "U''_{yx} & U''_{yy}\\\\\n",
        "\\end{vmatrix}=U''_{xx}\\cdot U''_{yy}-(U''_{xy})^2=24>0$$\n",
        "\n",
        "Оба минора положительные, это говорит о том, что найденная точка (0,0) является точкой минимума.\n",
        "\n",
        "В точке $(0,-6)$: \n",
        " \n",
        "###  $$\\begin{pmatrix}\n",
        "-8 & 0\\\\ \n",
        "0 & -6\\\\\n",
        "\\end{pmatrix}$$\n",
        "\n",
        "### $$\\Delta_{1}=U''_{xx}=-8<0$$\n",
        "\n",
        "### $$\\Delta_{2}=\\begin{vmatrix}\n",
        "U''_{xx} & U''_{xy}\\\\ \n",
        "U''_{yx} & U''_{yy}\\\\\n",
        "\\end{vmatrix}=U''_{xx}\\cdot U''_{yy}-(U''_{xy})^2=48>0$$\n",
        "\n",
        "Первый минор отрицательный, второй положительный, значит  точка (0,-6) является точкой максимума.\n",
        "\n",
        "В точке $(2\\sqrt2,-2)$: \n",
        " \n",
        "###  $$\\begin{pmatrix}\n",
        "2 & 4\\sqrt2\\\\ \n",
        "4\\sqrt2 & 0\\\\\n",
        "\\end{pmatrix}$$\n",
        "\n",
        "### $$\\Delta_{1}=U''_{yy}=2>0$$\n",
        "\n",
        "### $$\\Delta_{2}=\\begin{vmatrix}\n",
        "U''_{yy} & U''_{yx}\\\\ \n",
        "U''_{xy} & U''_{xx}\\\\\n",
        "\\end{vmatrix}=U''_{xx}\\cdot U''_{yy}-(U''_{xy})^2=-32<0$$\n",
        "\n",
        "Первый минор положительный, второй отрицательный, значит точка $(2\\sqrt2,-2)$ является \"седловой\".\n",
        "\n",
        "В точке $(-2\\sqrt2,-2)$: \n",
        " \n",
        "###  $$\\begin{pmatrix}\n",
        "2 & -4\\sqrt2\\\\ \n",
        "-4\\sqrt2 & 0\\\\\n",
        "\\end{pmatrix}$$\n",
        "\n",
        "### $$\\Delta_{1}=U''_{yy}=2>0$$\n",
        "\n",
        "### $$\\Delta_{2}=\\begin{vmatrix}\n",
        "U''_{yy} & U''_{yx}\\\\ \n",
        "U''_{xy} & U''_{xx}\\\\\n",
        "\\end{vmatrix}=U''_{xx}\\cdot U''_{yy}-(U''_{xy})^2=-32<0$$\n",
        "\n",
        "Первый минор положительный, второй отрицательный, значит точка $(-2\\sqrt2,-2)$ является \"седловой\"."
      ]
    },
    {
      "cell_type": "markdown",
      "metadata": {
        "id": "gmyKjIncjB5J"
      },
      "source": [
        "__7*.__ Исследовать на экстремум функцию:\n",
        "\n",
        "### $$U=e^{-\\frac{x}{2}}\\cdot(x^2+y^2)$$\n",
        "\n",
        "### $$\\begin{cases}\n",
        "   U'_{x}=\\left(e^{-\\frac{x}{2}}\\right)'_{x}\\cdot(x^{2}+y^{2})+\\left(e^{-\\frac{x}{2}}\\right)\\cdot(x^{2}+y^{2})'_{x}=-\\frac{e^{-\\frac{x}{2}}\\cdot(x^{2}+y^{2})}{2}+2e^{-\\frac{x}{2}}x=0, \\\\\n",
        "   U'_{y}=\\left(e^{-\\frac{x}{2}}\\right)'_{y}\\cdot(x^{2}+y^{2})+\\left(e^{-\\frac{x}{2}}\\right)\\cdot(x^{2}+y^{2})'_{y}=e^{-\\frac{x}{2}}\\cdot\\left(-\\frac{x}{2}\\right)'_{y}\\cdot(x^{2}+y^{2})+2e^{-\\frac{x}{2}}y=2e^{-\\frac{x}{2}}y=0 \n",
        " \\end{cases}$$\n",
        "\n",
        "Решив систему получим стационарные точки  $(0,0), (4, 0)$. Теперь найдем вторые производные и составим матрицы Гёссе\n",
        "\n",
        "### $$U''_{xx}=-\\frac{1}{2}\\left(e^{-\\frac{x}{2}}\\cdot x^{2}+e^{-\\frac{x}{2}}\\cdot y^{2}\\right)'_{x}+\\left(2e^{-\\frac{x}{2}}x\\right)'_{x}=\\frac{x^{2}}{4}e^{-\\frac{x}{2}}-2xe^{-\\frac{x}{2}}+\\frac{y^{2}}{4}e^{-\\frac{x}{2}}+2e^{-\\frac{x}{2}}$$\n",
        "\n",
        "### $$U''_{xy}=U''_{yx}=-\\frac{1}{2}\\left(e^{-\\frac{x}{2}}\\cdot x^{2}+e^{-\\frac{x}{2}}\\cdot y^{2}\\right)'_{y}+\\left(2e^{-\\frac{x}{2}}x\\right)'_{y}=-e^{-\\frac{x}{2}}y$$\n",
        "\n",
        "### $$U''_{yy}=2e^{-\\frac{x}{2}}$$\n",
        "\n",
        "В точке $(0,0)$: \n",
        " \n",
        "###  $$\\begin{pmatrix}\n",
        "2 & 0\\\\ \n",
        "0 & 2\\\\\n",
        "\\end{pmatrix}$$\n",
        "\n",
        "### $$\\Delta_{1}=U''_{xx}=2>0$$\n",
        "\n",
        "### $$\\Delta_{2}=\\begin{vmatrix}\n",
        "U''_{xx} & U''_{xy}\\\\ \n",
        "U''_{yx} & U''_{yy}\\\\\n",
        "\\end{vmatrix}=U''_{xx}\\cdot U''_{yy}-(U''_{xy})^2=4>0$$\n",
        "\n",
        "Оба минора положительные, это говорит о том, что найденная точка (0,0) является точкой минимума.\n",
        "\n",
        "В точке $(4,0)$: \n",
        " \n",
        "###  $$\\begin{pmatrix}\n",
        "-\\frac{2}{e^2} & 0\\\\ \n",
        "0 & \\frac{2}{e^2}\\\\\n",
        "\\end{pmatrix}$$\n",
        "\n",
        "### $$\\Delta_{1}=U''_{xx}=-\\frac{2}{e^2}<0$$\n",
        "\n",
        "### $$\\Delta_{2}=\\begin{vmatrix}\n",
        "U''_{xx} & U''_{xy}\\\\ \n",
        "U''_{yx} & U''_{yy}\\\\\n",
        "\\end{vmatrix}=U''_{xx}\\cdot U''_{yy}-(U''_{xy})^2=-\\frac{4}{e^{4}}<0$$\n",
        "\n",
        "Оба минора отрицательные, это говорит о том, что найденная точка (4,0) является седловой."
      ]
    },
    {
      "cell_type": "markdown",
      "metadata": {
        "id": "tVCvHi2NeFH5"
      },
      "source": [
        "__8**.__ С помощью метода наименьших квадратов (МНК) подобрать значения параметров $a$ и $b$ для сигмоидальной функции $$y=\\frac{1}{1+e^{-(ax+b)}}$$ \n",
        "\n",
        "по заданному распределению. Построить график."
      ]
    },
    {
      "cell_type": "code",
      "metadata": {
        "colab": {
          "base_uri": "https://localhost:8080/",
          "height": 265
        },
        "id": "2wzNFpKHJJ1r",
        "outputId": "26612256-b827-4e53-d1c9-c15b47657ac9"
      },
      "source": [
        "import numpy as np\n",
        "import matplotlib.pyplot as plt\n",
        "\n",
        "# Задаем рандомное распределение точек\n",
        "xi = np.random.uniform(-8, 8, 200)\n",
        "yi = 1/(1+np.exp(-np.random.uniform(0.5, 1.5, 200)*xi-np.random.uniform(-1, 1, 200)))\n",
        "plt.plot(xi,yi, marker=\"o\", ls=\"\")\n",
        "\n",
        "plt.show()"
      ],
      "execution_count": null,
      "outputs": [
        {
          "output_type": "display_data",
          "data": {
            "image/png": "[encoded data removed]",
            "text/plain": [
              "<Figure size 432x288 with 1 Axes>"
            ]
          },
          "metadata": {
            "needs_background": "light"
          }
        }
      ]
    },
    {
      "cell_type": "markdown",
      "metadata": {
        "id": "47ljzKd9d2i6"
      },
      "source": [
        "$$y=\\frac{1}{1+e^{-(ax+b)}}$$ \n",
        "$$y-\\frac{1}{1+e^{-(ax+b)}}=0$$ \n",
        "\n",
        "### $$\\begin{cases}\n",
        "   U'_{a}=\\ \\sum_{i=1}^{n}2\\cdot\\left(y_{i}-\\frac{1}{1+e^{-ax_{i}-b}}\\right)\\cdot\\left(y_{i}-\\frac{1}{1+e^{-ax_{i}-b}}\\right)_{a}^{'}=\\ \\sum_{i=1}^{n}2\\cdot\\left(y_{i}-\\frac{1}{1+e^{-ax_{i}-b}}\\right)\\cdot\\left(\\frac{\\left(1+e^{-ax_{i}-b}\\right)_{a}^{'}}{\\left(1+e^{-ax_{i}-b}\\right)^{2}}\\right)=\\ \\sum_{i=1}^{n}2\\cdot\\left(y_{i}-\\frac{1}{1+e^{-ax_{i}-b}}\\right)\\cdot\\left(\\frac{-xe^{-ax_{i}-b}}{\\left(1+e^{-ax_{i}-b}\\right)^{2}}\\right)=0, \\\\\n",
        "   U'_{b}=\\ \\sum_{i=1}^{n}2\\cdot\\left(y_{i}-\\frac{1}{1+e^{-ax_{i}-b}}\\right)\\cdot\\left(y_{i}-\\frac{1}{1+e^{-ax_{i}-b}}\\right)'_{b}=\\ \\sum_{i=1}^{n}2\\cdot\\left(y_{i}-\\frac{1}{1+e^{-ax_{i}-b}}\\right)\\cdot\\left(\\frac{\\left(1+e^{-ax_{i}-b}\\right)_{b}^{'}}{\\left(1+e^{-ax_{i}-b}\\right)^{2}}\\right)=\\ \\sum_{i=1}^{n}2\\cdot\\left(y_{i}-\\frac{1}{1+e^{-ax_{i}-b}}\\right)\\cdot\\left(\\frac{-e^{-ax_{i}-b}}{\\left(1+e^{-ax_{i}-b}\\right)^{2}}\\right)=0 \n",
        " \\end{cases}$$"
      ]
    },
    {
      "cell_type": "code",
      "metadata": {
        "colab": {
          "base_uri": "https://localhost:8080/"
        },
        "id": "_GEWdVFYqmfo",
        "outputId": "58adcf0a-ce02-42f9-d654-93e4c9790ae8"
      },
      "source": [
        "from scipy.optimize import fsolve\n",
        "import math\n",
        "\n",
        "\n",
        "def equations(p):\n",
        "    a, b = p\n",
        "    # Запись системы уравнения\n",
        "    return ((2*(yi-1/(1+np.e**(-a*xi-b)))*((-xi*np.e**(-a*xi-b))/(1+np.e**(-a*xi-b))**2)).sum(), (2*(yi-1/(1+np.e**(-a*xi-b)))*((-np.e**(-a*xi-b))/(1+np.e**(-a*xi-b))**2)).sum())\n",
        "\n",
        "# Численное решение системы уравнений\n",
        "a, b =  fsolve(equations, (10, 150))\n",
        "print (a, b)"
      ],
      "execution_count": null,
      "outputs": [
        {
          "output_type": "stream",
          "name": "stdout",
          "text": [
            "8.963183607205144 526.0757483948556\n"
          ]
        },
        {
          "output_type": "stream",
          "name": "stderr",
          "text": [
            "/usr/local/lib/python3.7/dist-packages/scipy/optimize/minpack.py:162: RuntimeWarning: The number of calls to function has reached maxfev = 600.\n",
            "  warnings.warn(msg, RuntimeWarning)\n"
          ]
        }
      ]
    },
    {
      "cell_type": "code",
      "metadata": {
        "colab": {
          "base_uri": "https://localhost:8080/",
          "height": 265
        },
        "id": "AIQigFVBvoGa",
        "outputId": "e5fc0117-b3c4-4f33-c94c-295e00688b27"
      },
      "source": [
        "x = np.linspace(-8, 8, 200)\n",
        "y = 1/(1 + np.e**(-(a*x+b)))\n",
        "\n",
        "plt.plot(x,y, c='blue')\n",
        "plt.plot(xi,yi, marker=\"o\", ls=\"\", c='pink')\n",
        "\n",
        "plt.show()"
      ],
      "execution_count": null,
      "outputs": [
        {
          "output_type": "display_data",
          "data": {
            "image/png": "[encoded data removed]",
            "text/plain": [
              "<Figure size 432x288 with 1 Axes>"
            ]
          },
          "metadata": {
            "needs_background": "light"
          }
        }
      ]
    }
  ]
}